{
  "nbformat": 4,
  "nbformat_minor": 0,
  "metadata": {
    "colab": {
      "name": "Used_cars.ipynb",
      "version": "0.3.2",
      "provenance": [],
      "collapsed_sections": []
    },
    "kernelspec": {
      "name": "python3",
      "display_name": "Python 3"
    },
    "accelerator": "GPU"
  },
  "cells": [
    {
      "cell_type": "code",
      "metadata": {
        "id": "-EmX4BGDOKwN",
        "colab_type": "code",
        "outputId": "d05bd5bb-fb18-4d91-bad6-9f1095a7043f",
        "colab": {
          "base_uri": "https://localhost:8080/",
          "height": 136
        }
      },
      "source": [
        "!unzip Participants_Data_Used_Cars.zip\n"
      ],
      "execution_count": 0,
      "outputs": [
        {
          "output_type": "stream",
          "text": [
            "Archive:  Participants_Data_Used_Cars.zip\n",
            "   creating: Participants_Data_Used_Cars/\n",
            "  inflating: Participants_Data_Used_Cars/Code.py  \n",
            "  inflating: Participants_Data_Used_Cars/Code_Random_Forest.py  \n",
            "  inflating: Participants_Data_Used_Cars/Data_Test.xlsx  \n",
            "  inflating: Participants_Data_Used_Cars/Data_Train.xlsx  \n",
            "  inflating: Participants_Data_Used_Cars/Sample_submission.xlsx  \n"
          ],
          "name": "stdout"
        }
      ]
    },
    {
      "cell_type": "code",
      "metadata": {
        "id": "Oa7ShFoAOsvh",
        "colab_type": "code",
        "outputId": "ec89dfa9-b855-4648-e56f-191d41767d60",
        "colab": {
          "base_uri": "https://localhost:8080/",
          "height": 34
        }
      },
      "source": [
        "%cd Participants_Data_Used_Cars"
      ],
      "execution_count": 0,
      "outputs": [
        {
          "output_type": "stream",
          "text": [
            "/content/Participants_Data_Used_Cars\n"
          ],
          "name": "stdout"
        }
      ]
    },
    {
      "cell_type": "code",
      "metadata": {
        "id": "77co_HQgOyHo",
        "colab_type": "code",
        "colab": {}
      },
      "source": [
        "import pandas as pd\n",
        "import numpy as np\n",
        "from sklearn.preprocessing import LabelEncoder\n",
        "from sklearn.model_selection import cross_val_score, train_test_split\n",
        "from sklearn.impute import SimpleImputer\n",
        "from sklearn.preprocessing import StandardScaler\n",
        "import matplotlib.pyplot as plt\n",
        "import seaborn as sns\n",
        "import xgboost\n",
        "from sklearn.ensemble import RandomForestRegressor\n",
        "from sklearn.model_selection import GridSearchCV"
      ],
      "execution_count": 0,
      "outputs": []
    },
    {
      "cell_type": "code",
      "metadata": {
        "id": "KITLf-ihPDZh",
        "colab_type": "code",
        "colab": {}
      },
      "source": [
        "train_data=pd.read_excel(\"Data_Train.xlsx\")\n",
        "test_data=pd.read_excel(\"Data_Test.xlsx\")"
      ],
      "execution_count": 0,
      "outputs": []
    },
    {
      "cell_type": "markdown",
      "metadata": {
        "id": "qLgXRTqFPPMN",
        "colab_type": "text"
      },
      "source": [
        "**EDA**\n"
      ]
    },
    {
      "cell_type": "code",
      "metadata": {
        "id": "sueqKXMzPIKQ",
        "colab_type": "code",
        "cellView": "code",
        "colab": {
          "base_uri": "https://localhost:8080/",
          "height": 1000
        },
        "outputId": "bd67e079-1430-4bfb-8fba-8e1b37922b96"
      },
      "source": [
        "#@title Default title text\n",
        "#Identifying the number of features or columns\n",
        "print(\"\\nTraining Set : \\n\",'-' * 20, len(train_data.columns))\n",
        "print(\"\\nTest Set : \\n\",'-' * 20,len(test_data.columns))\n",
        "\n",
        "#Identifying the features or columns\n",
        "print(\"\\nTraining Set : \\n\",'-' * 20, list(train_data.columns))\n",
        "print(\"\\nTest Set : \\n\",'-' * 20,list(test_data.columns))\n",
        "#Identifying the data types of features\n",
        "print(\"\\nTraining Set : \\n\",'-' * 20,\"\\n\", train_data.dtypes)\n",
        "print(\"\\nTest Set : \\n\",'-' * 20,\"\\n\",test_data.dtypes)\n",
        "\n",
        "#Identifying the number of observations\n",
        "print(\"\\nTraining Set : \\n\",'-' * 20,len(train_data))\n",
        "print(\"\\nTest Set : \\n\",'-' * 20,len(test_data))\n",
        "\n",
        "#Checking if the dataset has empty cells or samples\n",
        "print(\"\\nTraining Set : \\n\",'-' * 20,train_data.isnull().values.any())\n",
        "print(\"\\nTest Set : \\n\",'-' * 20,test_data.isnull().values.any())\n",
        "\n",
        "#Identifying the number of empty cells by features or columns\n",
        "print(\"\\nTraining Set : \\n\",'-' * 20,\"\\n\", train_data.isnull().sum())\n",
        "print(\"\\nTest Set : \\n\",'-' * 20,\"\\n\",test_data.isnull().sum())\n"
      ],
      "execution_count": 3,
      "outputs": [
        {
          "output_type": "stream",
          "text": [
            "\n",
            "Training Set : \n",
            " -------------------- 13\n",
            "\n",
            "Test Set : \n",
            " -------------------- 12\n",
            "\n",
            "Training Set : \n",
            " -------------------- ['Name', 'Location', 'Year', 'Kilometers_Driven', 'Fuel_Type', 'Transmission', 'Owner_Type', 'Mileage', 'Engine', 'Power', 'Seats', 'New_Price', 'Price']\n",
            "\n",
            "Test Set : \n",
            " -------------------- ['Name', 'Location', 'Year', 'Kilometers_Driven', 'Fuel_Type', 'Transmission', 'Owner_Type', 'Mileage', 'Engine', 'Power', 'Seats', 'New_Price']\n",
            "\n",
            "Training Set : \n",
            " -------------------- \n",
            " Name                  object\n",
            "Location              object\n",
            "Year                   int64\n",
            "Kilometers_Driven      int64\n",
            "Fuel_Type             object\n",
            "Transmission          object\n",
            "Owner_Type            object\n",
            "Mileage               object\n",
            "Engine                object\n",
            "Power                 object\n",
            "Seats                float64\n",
            "New_Price             object\n",
            "Price                float64\n",
            "dtype: object\n",
            "\n",
            "Test Set : \n",
            " -------------------- \n",
            " Name                  object\n",
            "Location              object\n",
            "Year                   int64\n",
            "Kilometers_Driven      int64\n",
            "Fuel_Type             object\n",
            "Transmission          object\n",
            "Owner_Type            object\n",
            "Mileage               object\n",
            "Engine                object\n",
            "Power                 object\n",
            "Seats                float64\n",
            "New_Price             object\n",
            "dtype: object\n",
            "\n",
            "Training Set : \n",
            " -------------------- 6019\n",
            "\n",
            "Test Set : \n",
            " -------------------- 1234\n",
            "\n",
            "Training Set : \n",
            " -------------------- True\n",
            "\n",
            "Test Set : \n",
            " -------------------- True\n",
            "\n",
            "Training Set : \n",
            " -------------------- \n",
            " Name                    0\n",
            "Location                0\n",
            "Year                    0\n",
            "Kilometers_Driven       0\n",
            "Fuel_Type               0\n",
            "Transmission            0\n",
            "Owner_Type              0\n",
            "Mileage                 2\n",
            "Engine                 36\n",
            "Power                  36\n",
            "Seats                  42\n",
            "New_Price            5195\n",
            "Price                   0\n",
            "dtype: int64\n",
            "\n",
            "Test Set : \n",
            " -------------------- \n",
            " Name                    0\n",
            "Location                0\n",
            "Year                    0\n",
            "Kilometers_Driven       0\n",
            "Fuel_Type               0\n",
            "Transmission            0\n",
            "Owner_Type              0\n",
            "Mileage                 0\n",
            "Engine                 10\n",
            "Power                  10\n",
            "Seats                  11\n",
            "New_Price            1052\n",
            "dtype: int64\n"
          ],
          "name": "stdout"
        }
      ]
    },
    {
      "cell_type": "markdown",
      "metadata": {
        "id": "dIVUdbDWRCvY",
        "colab_type": "text"
      },
      "source": [
        "**DATA** **CLEANING**"
      ]
    },
    {
      "cell_type": "code",
      "metadata": {
        "id": "nr-dFCFsPV7J",
        "colab_type": "code",
        "colab": {}
      },
      "source": [
        "#Name\n",
        "#Training Set\n",
        "\n",
        "names = list(train_data.Name)\n",
        "brand = []\n",
        "model = []\n",
        "for i in range(len(names)):\n",
        "   try:\n",
        "       brand.append(names[i].split(\" \")[0].strip())\n",
        "       try:\n",
        "           model.append(\" \".join(names[i].split(\" \")[1:]).strip())\n",
        "       except:\n",
        "           pass\n",
        "   except:\n",
        "       print(\"ERR ! - \", names[i], \"@\" , i)\n",
        "train_data[\"Brand\"] =  brand\n",
        "train_data[\"Model\"] = model\n",
        "train_data.drop(labels = ['Name'], axis = 1, inplace = True)\n",
        "\n",
        "#Test Set\n",
        "names = list(test_data.Name)\n",
        "brand = []\n",
        "model = []\n",
        "for i in range(len(names)):\n",
        "   try:\n",
        "       brand.append(names[i].split(\" \")[0].strip())\n",
        "       try:\n",
        "           model.append(\" \".join(names[i].split(\" \")[1:]).strip())\n",
        "       except:\n",
        "           pass\n",
        "   except:\n",
        "       print(\"ERR ! - \", names[i], \"@\" , i)\n",
        "test_data[\"Brand\"] =  brand\n",
        "test_data[\"Model\"] = model\n",
        "test_data.drop(labels = ['Name'], axis = 1, inplace = True)\n",
        "\n",
        "#Mileage\n",
        "# Training Set\n",
        "mileage = list(train_data.Mileage)\n",
        "for i in range(len(mileage)):\n",
        "   try :\n",
        "       mileage[i] = float(mileage[i].split(\" \")[0].strip())\n",
        "   except:\n",
        "       mileage[i] = np.nan\n",
        "train_data['Mileage'] = mileage\n",
        "\n",
        "# Test Set\n",
        "mileage = list(test_data.Mileage)\n",
        "for i in range(len(mileage)):\n",
        "   try :\n",
        "       mileage[i] = float(mileage[i].split(\" \")[0].strip())\n",
        "   except:\n",
        "       mileage[i] = np.nan\n",
        "test_data['Mileage'] = mileage\n",
        "\n",
        "#-----------------------------------------------------------------------\n",
        "\n",
        "#Engine\n",
        "# Training Set\n",
        "engine = list(train_data.Engine)\n",
        "for i in range(len(engine)):\n",
        "   try :\n",
        "       engine[i] = int(engine[i].split(\" \")[0].strip())\n",
        "   except:\n",
        "       engine[i] = np.nan\n",
        "train_data['Engine'] = engine\n",
        "\n",
        "# Test Set\n",
        "engine = list(test_data.Engine)\n",
        "for i in range(len(engine)):\n",
        "   try :\n",
        "       engine[i] = int(engine[i].split(\" \")[0].strip())\n",
        "   except:\n",
        "       engine[i] = np.nan\n",
        "test_data['Engine'] = engine\n",
        "\n",
        "\n",
        "#-----------------------------------------------------------------------\n",
        "#Power\n",
        "# Training Set\n",
        "power = list(train_data.Power)\n",
        "for i in range(len(power)):\n",
        "   try :\n",
        "       power[i] = float(power[i].split(\" \")[0].strip())\n",
        "   except:\n",
        "       power[i] = np.nan\n",
        "train_data['Power'] = power\n",
        "\n",
        "# test Set\n",
        "power = list(test_data.Power)\n",
        "for i in range(len(power)):\n",
        "   try :\n",
        "       power[i] = float(power[i].split(\" \")[0].strip())\n",
        "   except:\n",
        "       power[i] = np.nan\n",
        "test_data['Power'] = power\n",
        "\n",
        "#-----------------------------------------------------------------------\n",
        "train_data.drop(labels = ['New_Price'], axis = 1, inplace = True)\n",
        "test_data.drop(labels = ['New_Price'], axis = 1, inplace = True)\n",
        "#-----------------------------------------------------------------------\n",
        "\n",
        "#Re-ordering the columns\n",
        "train_data = train_data[['Brand', 'Model', 'Location', 'Year', 'Kilometers_Driven', 'Fuel_Type', 'Transmission',\n",
        "      'Owner_Type', 'Mileage', 'Engine', 'Power', 'Seats', 'Price']]\n",
        "test_data = test_data[['Brand', 'Model', 'Location', 'Year', 'Kilometers_Driven', 'Fuel_Type', 'Transmission',\n",
        "      'Owner_Type', 'Mileage', 'Engine', 'Power', 'Seats']]"
      ],
      "execution_count": 0,
      "outputs": []
    },
    {
      "cell_type": "markdown",
      "metadata": {
        "id": "YVEQ3M1qRhSo",
        "colab_type": "text"
      },
      "source": [
        "**VISUALIZATION**"
      ]
    },
    {
      "cell_type": "code",
      "metadata": {
        "id": "1SZtBg1XRcMJ",
        "colab_type": "code",
        "colab": {
          "base_uri": "https://localhost:8080/",
          "height": 1000
        },
        "outputId": "33473ee4-14b4-42d4-ff49-2d0578747e31"
      },
      "source": [
        "#Categorical variables distribution\n",
        "categories=['Brand', 'Model', 'Location','Fuel_Type', 'Transmission', 'Owner_Type']\n",
        "for i, c in enumerate(categories):\n",
        "    v = train_data[c].unique()\n",
        "    \n",
        "    g = train_data.groupby(by=c)[c].count().sort_values(ascending=False)\n",
        "    r = range(min(len(v), 5))\n",
        "\n",
        "    print( g.head())\n",
        "    plt.figure(figsize=(5,3))\n",
        "    plt.bar(r, g.head()) \n",
        "    #plt.xticks(r, v)\n",
        "    plt.xticks(r, g.index)\n",
        "    plt.show()\n"
      ],
      "execution_count": 5,
      "outputs": [
        {
          "output_type": "stream",
          "text": [
            "Brand\n",
            "Maruti           1211\n",
            "Hyundai          1107\n",
            "Honda             608\n",
            "Toyota            411\n",
            "Mercedes-Benz     318\n",
            "Name: Brand, dtype: int64\n"
          ],
          "name": "stdout"
        },
        {
          "output_type": "display_data",
          "data": {
            "image/png": "[encoded data removed]",
            "text/plain": [
              "<Figure size 360x216 with 1 Axes>"
            ]
          },
          "metadata": {
            "tags": []
          }
        },
        {
          "output_type": "stream",
          "text": [
            "Model\n",
            "XUV500 W8 2WD      49\n",
            "Swift VDI          45\n",
            "City 1.5 S MT      34\n",
            "Swift Dzire VDI    34\n",
            "Swift VDI BSIV     31\n",
            "Name: Model, dtype: int64\n"
          ],
          "name": "stdout"
        },
        {
          "output_type": "display_data",
          "data": {
            "image/png": "[encoded data removed]",
            "text/plain": [
              "<Figure size 360x216 with 1 Axes>"
            ]
          },
          "metadata": {
            "tags": []
          }
        },
        {
          "output_type": "stream",
          "text": [
            "Location\n",
            "Mumbai        790\n",
            "Hyderabad     742\n",
            "Kochi         651\n",
            "Coimbatore    636\n",
            "Pune          622\n",
            "Name: Location, dtype: int64\n"
          ],
          "name": "stdout"
        },
        {
          "output_type": "display_data",
          "data": {
            "image/png": "[encoded data removed]",
            "text/plain": [
              "<Figure size 360x216 with 1 Axes>"
            ]
          },
          "metadata": {
            "tags": []
          }
        },
        {
          "output_type": "stream",
          "text": [
            "Fuel_Type\n",
            "Diesel      3205\n",
            "Petrol      2746\n",
            "CNG           56\n",
            "LPG           10\n",
            "Electric       2\n",
            "Name: Fuel_Type, dtype: int64\n"
          ],
          "name": "stdout"
        },
        {
          "output_type": "display_data",
          "data": {
            "image/png": "[encoded data removed]",
            "text/plain": [
              "<Figure size 360x216 with 1 Axes>"
            ]
          },
          "metadata": {
            "tags": []
          }
        },
        {
          "output_type": "stream",
          "text": [
            "Transmission\n",
            "Manual       4299\n",
            "Automatic    1720\n",
            "Name: Transmission, dtype: int64\n"
          ],
          "name": "stdout"
        },
        {
          "output_type": "display_data",
          "data": {
            "image/png": "[encoded data removed]",
            "text/plain": [
              "<Figure size 360x216 with 1 Axes>"
            ]
          },
          "metadata": {
            "tags": []
          }
        },
        {
          "output_type": "stream",
          "text": [
            "Owner_Type\n",
            "First             4929\n",
            "Second             968\n",
            "Third              113\n",
            "Fourth & Above       9\n",
            "Name: Owner_Type, dtype: int64\n"
          ],
          "name": "stdout"
        },
        {
          "output_type": "display_data",
          "data": {
            "image/png": "[encoded data removed]",
            "text/plain": [
              "<Figure size 360x216 with 1 Axes>"
            ]
          },
          "metadata": {
            "tags": []
          }
        }
      ]
    },
    {
      "cell_type": "markdown",
      "metadata": {
        "id": "omHfqsnQR69I",
        "colab_type": "text"
      },
      "source": [
        "**Exploring Categorical features**"
      ]
    },
    {
      "cell_type": "code",
      "metadata": {
        "id": "cqFS11eARxbY",
        "colab_type": "code",
        "outputId": "864b8f98-9f1e-48c8-d733-a854e5eca1e6",
        "colab": {
          "base_uri": "https://localhost:8080/",
          "height": 547
        }
      },
      "source": [
        "\n",
        "#combining training set and test set data\n",
        "all_brands = list(train_data.Brand) + list(test_data.Brand)\n",
        "all_locations = list(train_data.Location) + list(test_data.Location)\n",
        "all_fuel_types = list(train_data.Fuel_Type) + list(test_data.Fuel_Type)\n",
        "all_transmissions = list(train_data.Transmission) + list(test_data.Transmission)\n",
        "all_owner_types = list(train_data.Owner_Type) + list(test_data.Owner_Type)\n",
        "\n",
        "print(\"\\nNumber Of Unique Values In Name : \\n \", len(set(all_brands)))\n",
        "print(\"\\nThe Unique Values In Name : \\n \", set(all_brands))\n",
        "\n",
        "print(\"\\nNumber Of Unique Values In Location : \\n \", len(set(all_locations)))\n",
        "print(\"\\nThe Unique Values In Location : \\n \", set(all_locations) )\n",
        "\n",
        "print(\"\\nNumber Of Unique Values In Fuel_Type : \\n \", len(set(all_fuel_types)))\n",
        "print(\"\\nThe Unique Values In Fuel_Type : \\n \", set(all_fuel_types) )\n",
        "\n",
        "print(\"\\nNumber Of Unique Values In Transmission : \\n \", len(set(all_transmissions)))\n",
        "print(\"\\nThe Unique Values In Transmission : \\n \", set(all_transmissions) )\n",
        "\n",
        "print(\"\\nNumber Of Unique Values In Owner_Type : \\n \", len(set(all_owner_types)))\n",
        "print(\"\\nThe Unique Values In Owner_Type : \\n \" ,set(all_owner_types))\n"
      ],
      "execution_count": 6,
      "outputs": [
        {
          "output_type": "stream",
          "text": [
            "\n",
            "Number Of Unique Values In Name : \n",
            "  33\n",
            "\n",
            "The Unique Values In Name : \n",
            "  {'Ambassador', 'Datsun', 'Ford', 'Volvo', 'Mercedes-Benz', 'Honda', 'ISUZU', 'Tata', 'Audi', 'Hindustan', 'Renault', 'Smart', 'Mahindra', 'Force', 'Mitsubishi', 'Hyundai', 'Land', 'BMW', 'OpelCorsa', 'Jeep', 'Nissan', 'Skoda', 'Volkswagen', 'Fiat', 'Isuzu', 'Porsche', 'Lamborghini', 'Chevrolet', 'Mini', 'Bentley', 'Maruti', 'Jaguar', 'Toyota'}\n",
            "\n",
            "Number Of Unique Values In Location : \n",
            "  11\n",
            "\n",
            "The Unique Values In Location : \n",
            "  {'Kochi', 'Hyderabad', 'Delhi', 'Bangalore', 'Pune', 'Chennai', 'Coimbatore', 'Jaipur', 'Kolkata', 'Mumbai', 'Ahmedabad'}\n",
            "\n",
            "Number Of Unique Values In Fuel_Type : \n",
            "  5\n",
            "\n",
            "The Unique Values In Fuel_Type : \n",
            "  {'Diesel', 'LPG', 'Petrol', 'CNG', 'Electric'}\n",
            "\n",
            "Number Of Unique Values In Transmission : \n",
            "  2\n",
            "\n",
            "The Unique Values In Transmission : \n",
            "  {'Automatic', 'Manual'}\n",
            "\n",
            "Number Of Unique Values In Owner_Type : \n",
            "  4\n",
            "\n",
            "The Unique Values In Owner_Type : \n",
            "  {'Fourth & Above', 'First', 'Third', 'Second'}\n"
          ],
          "name": "stdout"
        }
      ]
    },
    {
      "cell_type": "markdown",
      "metadata": {
        "id": "IjUswYePSHhI",
        "colab_type": "text"
      },
      "source": [
        "**Encoding Categorical Variables**"
      ]
    },
    {
      "cell_type": "code",
      "metadata": {
        "id": "ZMBpBPn_SB4Y",
        "colab_type": "code",
        "colab": {}
      },
      "source": [
        "#'Brand', 'Model', 'Location','Fuel_Type', 'Transmission', 'Owner_Type'\n",
        "\n",
        "all_brands = list(set(list(train_data.Brand) + list(test_data.Brand)))\n",
        "all_models = list(set(list(train_data.Model) + list(test_data.Model)))\n",
        "all_locations = list(set(list(train_data.Location) + list(test_data.Location)))\n",
        "all_fuel_types = list(set(list(train_data.Fuel_Type) + list(test_data.Fuel_Type)))\n",
        "all_transmissions = list(set(list(train_data.Transmission) + list(test_data.Transmission)))\n",
        "all_owner_types = list(set(list(train_data.Owner_Type) + list(test_data.Owner_Type)))\n",
        "\n",
        "#Initializing label encoders and fitting the categories\n",
        "\n",
        "#Initializing label encoders\n",
        "le_brands = LabelEncoder()\n",
        "le_models = LabelEncoder()\n",
        "le_locations = LabelEncoder()\n",
        "le_fuel_types = LabelEncoder()\n",
        "le_transmissions = LabelEncoder()\n",
        "le_owner_types = LabelEncoder()\n",
        "\n",
        "#Fitting the categories\n",
        "le_brands.fit(all_brands)\n",
        "le_models.fit(all_models)\n",
        "le_locations.fit(all_locations)\n",
        "le_fuel_types.fit(all_fuel_types)\n",
        "le_transmissions.fit(all_transmissions)\n",
        "le_owner_types.fit(all_owner_types)\n",
        "\n",
        "#Transforming the data in training set and test_data\n",
        "\n",
        "#Applying encoding to train_data data\n",
        "train_data['Brand'] = le_brands.transform(train_data['Brand'])\n",
        "train_data['Model'] = le_models.transform(train_data['Model'])\n",
        "train_data['Location'] = le_locations.transform(train_data['Location'])\n",
        "train_data['Fuel_Type'] = le_fuel_types.transform(train_data['Fuel_Type'])\n",
        "train_data['Transmission'] = le_transmissions.transform(train_data['Transmission'])\n",
        "train_data['Owner_Type'] = le_owner_types.transform(train_data['Owner_Type'])\n",
        "\n",
        "#Applying encoding to test_data data\n",
        "test_data['Brand'] = le_brands.transform(test_data['Brand'])\n",
        "test_data['Model'] = le_models.transform(test_data['Model'])\n",
        "test_data['Location'] = le_locations.transform(test_data['Location'])\n",
        "test_data['Fuel_Type'] = le_fuel_types.transform(test_data['Fuel_Type'])\n",
        "test_data['Transmission'] = le_transmissions.transform(test_data['Transmission'])\n",
        "test_data['Owner_Type'] = le_owner_types.transform(test_data['Owner_Type'])"
      ],
      "execution_count": 0,
      "outputs": []
    },
    {
      "cell_type": "markdown",
      "metadata": {
        "id": "CoKPsgCOSWhI",
        "colab_type": "text"
      },
      "source": [
        "**Correlation plot**"
      ]
    },
    {
      "cell_type": "code",
      "metadata": {
        "id": "rjtfRT8ySL4x",
        "colab_type": "code",
        "outputId": "d3e3c3c4-0d94-43e9-833d-c962aafe89d5",
        "colab": {
          "base_uri": "https://localhost:8080/",
          "height": 1000
        }
      },
      "source": [
        "def plot_correlation_map( df ):\n",
        "    corr = df.corr()\n",
        "    _ , ax = plt.subplots( figsize =( 12 , 10 ) )\n",
        "    cmap = sns.diverging_palette( 220 , 10 , as_cmap = True )\n",
        "    _ = sns.heatmap(\n",
        "        corr, \n",
        "        cmap = cmap,\n",
        "        square=True, \n",
        "        cbar_kws={ 'shrink' : .9 }, \n",
        "        ax=ax, \n",
        "        annot = True, \n",
        "        annot_kws = { 'fontsize' : 12 }\n",
        "    )\n",
        "\n",
        "#Removing Correlation\n",
        "#train_data=train_data.drop(['Engine','Power'],axis=1)\n",
        "\n",
        "#plot_correlation_map(train_data)\n",
        "#train_data.corr()\n",
        "plot_correlation_map(train_data)\n",
        "train_data.corr()\n",
        "\n",
        "\n"
      ],
      "execution_count": 8,
      "outputs": [
        {
          "output_type": "execute_result",
          "data": {
            "text/html": [
              "<div>\n",
              "<style scoped>\n",
              "    .dataframe tbody tr th:only-of-type {\n",
              "        vertical-align: middle;\n",
              "    }\n",
              "\n",
              "    .dataframe tbody tr th {\n",
              "        vertical-align: top;\n",
              "    }\n",
              "\n",
              "    .dataframe thead th {\n",
              "        text-align: right;\n",
              "    }\n",
              "</style>\n",
              "<table border=\"1\" class=\"dataframe\">\n",
              "  <thead>\n",
              "    <tr style=\"text-align: right;\">\n",
              "      <th></th>\n",
              "      <th>Brand</th>\n",
              "      <th>Model</th>\n",
              "      <th>Location</th>\n",
              "      <th>Year</th>\n",
              "      <th>Kilometers_Driven</th>\n",
              "      <th>Fuel_Type</th>\n",
              "      <th>Transmission</th>\n",
              "      <th>Owner_Type</th>\n",
              "      <th>Mileage</th>\n",
              "      <th>Engine</th>\n",
              "      <th>Power</th>\n",
              "      <th>Seats</th>\n",
              "      <th>Price</th>\n",
              "    </tr>\n",
              "  </thead>\n",
              "  <tbody>\n",
              "    <tr>\n",
              "      <th>Brand</th>\n",
              "      <td>1.000000</td>\n",
              "      <td>0.173716</td>\n",
              "      <td>0.026862</td>\n",
              "      <td>0.018888</td>\n",
              "      <td>0.027777</td>\n",
              "      <td>-0.060974</td>\n",
              "      <td>0.171743</td>\n",
              "      <td>-0.028036</td>\n",
              "      <td>-0.013943</td>\n",
              "      <td>0.004294</td>\n",
              "      <td>-0.185523</td>\n",
              "      <td>0.186473</td>\n",
              "      <td>-0.137949</td>\n",
              "    </tr>\n",
              "    <tr>\n",
              "      <th>Model</th>\n",
              "      <td>0.173716</td>\n",
              "      <td>1.000000</td>\n",
              "      <td>0.004142</td>\n",
              "      <td>-0.024191</td>\n",
              "      <td>0.034713</td>\n",
              "      <td>-0.037537</td>\n",
              "      <td>0.176497</td>\n",
              "      <td>-0.000645</td>\n",
              "      <td>0.003212</td>\n",
              "      <td>-0.072466</td>\n",
              "      <td>-0.107102</td>\n",
              "      <td>0.084436</td>\n",
              "      <td>-0.086954</td>\n",
              "    </tr>\n",
              "    <tr>\n",
              "      <th>Location</th>\n",
              "      <td>0.026862</td>\n",
              "      <td>0.004142</td>\n",
              "      <td>1.000000</td>\n",
              "      <td>-0.020117</td>\n",
              "      <td>-0.042751</td>\n",
              "      <td>0.115048</td>\n",
              "      <td>0.040174</td>\n",
              "      <td>-0.033889</td>\n",
              "      <td>0.018778</td>\n",
              "      <td>-0.078605</td>\n",
              "      <td>-0.065836</td>\n",
              "      <td>-0.037401</td>\n",
              "      <td>-0.116620</td>\n",
              "    </tr>\n",
              "    <tr>\n",
              "      <th>Year</th>\n",
              "      <td>0.018888</td>\n",
              "      <td>-0.024191</td>\n",
              "      <td>-0.020117</td>\n",
              "      <td>1.000000</td>\n",
              "      <td>-0.173048</td>\n",
              "      <td>-0.129526</td>\n",
              "      <td>-0.097059</td>\n",
              "      <td>-0.386160</td>\n",
              "      <td>0.321565</td>\n",
              "      <td>-0.052197</td>\n",
              "      <td>0.014525</td>\n",
              "      <td>0.012333</td>\n",
              "      <td>0.305327</td>\n",
              "    </tr>\n",
              "    <tr>\n",
              "      <th>Kilometers_Driven</th>\n",
              "      <td>0.027777</td>\n",
              "      <td>0.034713</td>\n",
              "      <td>-0.042751</td>\n",
              "      <td>-0.173048</td>\n",
              "      <td>1.000000</td>\n",
              "      <td>-0.102953</td>\n",
              "      <td>0.025663</td>\n",
              "      <td>0.079924</td>\n",
              "      <td>-0.065253</td>\n",
              "      <td>0.091068</td>\n",
              "      <td>0.033503</td>\n",
              "      <td>0.083113</td>\n",
              "      <td>-0.011493</td>\n",
              "    </tr>\n",
              "    <tr>\n",
              "      <th>Fuel_Type</th>\n",
              "      <td>-0.060974</td>\n",
              "      <td>-0.037537</td>\n",
              "      <td>0.115048</td>\n",
              "      <td>-0.129526</td>\n",
              "      <td>-0.102953</td>\n",
              "      <td>1.000000</td>\n",
              "      <td>0.125219</td>\n",
              "      <td>0.043017</td>\n",
              "      <td>-0.152126</td>\n",
              "      <td>-0.402345</td>\n",
              "      <td>-0.267167</td>\n",
              "      <td>-0.299100</td>\n",
              "      <td>-0.305207</td>\n",
              "    </tr>\n",
              "    <tr>\n",
              "      <th>Transmission</th>\n",
              "      <td>0.171743</td>\n",
              "      <td>0.176497</td>\n",
              "      <td>0.040174</td>\n",
              "      <td>-0.097059</td>\n",
              "      <td>0.025663</td>\n",
              "      <td>0.125219</td>\n",
              "      <td>1.000000</td>\n",
              "      <td>0.003002</td>\n",
              "      <td>0.333235</td>\n",
              "      <td>-0.500381</td>\n",
              "      <td>-0.643737</td>\n",
              "      <td>0.075475</td>\n",
              "      <td>-0.586025</td>\n",
              "    </tr>\n",
              "    <tr>\n",
              "      <th>Owner_Type</th>\n",
              "      <td>-0.028036</td>\n",
              "      <td>-0.000645</td>\n",
              "      <td>-0.033889</td>\n",
              "      <td>-0.386160</td>\n",
              "      <td>0.079924</td>\n",
              "      <td>0.043017</td>\n",
              "      <td>0.003002</td>\n",
              "      <td>1.000000</td>\n",
              "      <td>-0.154193</td>\n",
              "      <td>0.048800</td>\n",
              "      <td>0.029371</td>\n",
              "      <td>0.003725</td>\n",
              "      <td>-0.094559</td>\n",
              "    </tr>\n",
              "    <tr>\n",
              "      <th>Mileage</th>\n",
              "      <td>-0.013943</td>\n",
              "      <td>0.003212</td>\n",
              "      <td>0.018778</td>\n",
              "      <td>0.321565</td>\n",
              "      <td>-0.065253</td>\n",
              "      <td>-0.152126</td>\n",
              "      <td>0.333235</td>\n",
              "      <td>-0.154193</td>\n",
              "      <td>1.000000</td>\n",
              "      <td>-0.597699</td>\n",
              "      <td>-0.537729</td>\n",
              "      <td>-0.308226</td>\n",
              "      <td>-0.306593</td>\n",
              "    </tr>\n",
              "    <tr>\n",
              "      <th>Engine</th>\n",
              "      <td>0.004294</td>\n",
              "      <td>-0.072466</td>\n",
              "      <td>-0.078605</td>\n",
              "      <td>-0.052197</td>\n",
              "      <td>0.091068</td>\n",
              "      <td>-0.402345</td>\n",
              "      <td>-0.500381</td>\n",
              "      <td>0.048800</td>\n",
              "      <td>-0.597699</td>\n",
              "      <td>1.000000</td>\n",
              "      <td>0.866185</td>\n",
              "      <td>0.393337</td>\n",
              "      <td>0.658354</td>\n",
              "    </tr>\n",
              "    <tr>\n",
              "      <th>Power</th>\n",
              "      <td>-0.185523</td>\n",
              "      <td>-0.107102</td>\n",
              "      <td>-0.065836</td>\n",
              "      <td>0.014525</td>\n",
              "      <td>0.033503</td>\n",
              "      <td>-0.267167</td>\n",
              "      <td>-0.643737</td>\n",
              "      <td>0.029371</td>\n",
              "      <td>-0.537729</td>\n",
              "      <td>0.866185</td>\n",
              "      <td>1.000000</td>\n",
              "      <td>0.101562</td>\n",
              "      <td>0.772566</td>\n",
              "    </tr>\n",
              "    <tr>\n",
              "      <th>Seats</th>\n",
              "      <td>0.186473</td>\n",
              "      <td>0.084436</td>\n",
              "      <td>-0.037401</td>\n",
              "      <td>0.012333</td>\n",
              "      <td>0.083113</td>\n",
              "      <td>-0.299100</td>\n",
              "      <td>0.075475</td>\n",
              "      <td>0.003725</td>\n",
              "      <td>-0.308226</td>\n",
              "      <td>0.393337</td>\n",
              "      <td>0.101562</td>\n",
              "      <td>1.000000</td>\n",
              "      <td>0.052225</td>\n",
              "    </tr>\n",
              "    <tr>\n",
              "      <th>Price</th>\n",
              "      <td>-0.137949</td>\n",
              "      <td>-0.086954</td>\n",
              "      <td>-0.116620</td>\n",
              "      <td>0.305327</td>\n",
              "      <td>-0.011493</td>\n",
              "      <td>-0.305207</td>\n",
              "      <td>-0.586025</td>\n",
              "      <td>-0.094559</td>\n",
              "      <td>-0.306593</td>\n",
              "      <td>0.658354</td>\n",
              "      <td>0.772566</td>\n",
              "      <td>0.052225</td>\n",
              "      <td>1.000000</td>\n",
              "    </tr>\n",
              "  </tbody>\n",
              "</table>\n",
              "</div>"
            ],
            "text/plain": [
              "                      Brand     Model  Location  ...     Power     Seats     Price\n",
              "Brand              1.000000  0.173716  0.026862  ... -0.185523  0.186473 -0.137949\n",
              "Model              0.173716  1.000000  0.004142  ... -0.107102  0.084436 -0.086954\n",
              "Location           0.026862  0.004142  1.000000  ... -0.065836 -0.037401 -0.116620\n",
              "Year               0.018888 -0.024191 -0.020117  ...  0.014525  0.012333  0.305327\n",
              "Kilometers_Driven  0.027777  0.034713 -0.042751  ...  0.033503  0.083113 -0.011493\n",
              "Fuel_Type         -0.060974 -0.037537  0.115048  ... -0.267167 -0.299100 -0.305207\n",
              "Transmission       0.171743  0.176497  0.040174  ... -0.643737  0.075475 -0.586025\n",
              "Owner_Type        -0.028036 -0.000645 -0.033889  ...  0.029371  0.003725 -0.094559\n",
              "Mileage           -0.013943  0.003212  0.018778  ... -0.537729 -0.308226 -0.306593\n",
              "Engine             0.004294 -0.072466 -0.078605  ...  0.866185  0.393337  0.658354\n",
              "Power             -0.185523 -0.107102 -0.065836  ...  1.000000  0.101562  0.772566\n",
              "Seats              0.186473  0.084436 -0.037401  ...  0.101562  1.000000  0.052225\n",
              "Price             -0.137949 -0.086954 -0.116620  ...  0.772566  0.052225  1.000000\n",
              "\n",
              "[13 rows x 13 columns]"
            ]
          },
          "metadata": {
            "tags": []
          },
          "execution_count": 8
        },
        {
          "output_type": "display_data",
          "data": {
            "image/png": "[encoded data removed]",
            "text/plain": [
              "<Figure size 864x720 with 2 Axes>"
            ]
          },
          "metadata": {
            "tags": []
          }
        }
      ]
    },
    {
      "cell_type": "code",
      "metadata": {
        "id": "MiPpsJGlq56w",
        "colab_type": "code",
        "colab": {}
      },
      "source": [
        "#Removing Correlation\n",
        "train_data=train_data.drop(['Engine'],axis=1)\n",
        "test_data = test_data.drop(['Engine'],axis=1)\n"
      ],
      "execution_count": 0,
      "outputs": []
    },
    {
      "cell_type": "markdown",
      "metadata": {
        "id": "xXJmQszESb6C",
        "colab_type": "text"
      },
      "source": [
        "**Imputing Missing Values**"
      ]
    },
    {
      "cell_type": "code",
      "metadata": {
        "id": "ZjweEcniVqjJ",
        "colab_type": "code",
        "colab": {}
      },
      "source": [
        "#Training Set Imputation\n",
        "imputer = SimpleImputer(missing_values = np.nan, strategy = 'most_frequent')\n",
        "imputer = imputer.fit(train_data) \n",
        "Imp_train_data = imputer.transform(train_data)"
      ],
      "execution_count": 0,
      "outputs": []
    },
    {
      "cell_type": "code",
      "metadata": {
        "id": "spIcmsPHmyGB",
        "colab_type": "code",
        "colab": {}
      },
      "source": [
        "#test_data Imputation\n",
        "imputer = SimpleImputer(missing_values = np.nan, strategy = 'most_frequent')\n",
        "imputer = imputer.fit(test_data) \n",
        "Imp_test_data = imputer.transform(test_data)"
      ],
      "execution_count": 0,
      "outputs": []
    },
    {
      "cell_type": "code",
      "metadata": {
        "id": "7O42F6yuOnJW",
        "colab_type": "code",
        "outputId": "a45b9bd1-1017-461b-8e09-0fb65cd91533",
        "colab": {
          "base_uri": "https://localhost:8080/",
          "height": 204
        }
      },
      "source": [
        "pd.DataFrame(Imp_test_data).head()"
      ],
      "execution_count": 0,
      "outputs": [
        {
          "output_type": "execute_result",
          "data": {
            "text/html": [
              "<div>\n",
              "<style scoped>\n",
              "    .dataframe tbody tr th:only-of-type {\n",
              "        vertical-align: middle;\n",
              "    }\n",
              "\n",
              "    .dataframe tbody tr th {\n",
              "        vertical-align: top;\n",
              "    }\n",
              "\n",
              "    .dataframe thead th {\n",
              "        text-align: right;\n",
              "    }\n",
              "</style>\n",
              "<table border=\"1\" class=\"dataframe\">\n",
              "  <thead>\n",
              "    <tr style=\"text-align: right;\">\n",
              "      <th></th>\n",
              "      <th>0</th>\n",
              "      <th>1</th>\n",
              "      <th>2</th>\n",
              "      <th>3</th>\n",
              "      <th>4</th>\n",
              "      <th>5</th>\n",
              "      <th>6</th>\n",
              "      <th>7</th>\n",
              "      <th>8</th>\n",
              "      <th>9</th>\n",
              "      <th>10</th>\n",
              "    </tr>\n",
              "  </thead>\n",
              "  <tbody>\n",
              "    <tr>\n",
              "      <th>0</th>\n",
              "      <td>19.0</td>\n",
              "      <td>157.0</td>\n",
              "      <td>4.0</td>\n",
              "      <td>2014.0</td>\n",
              "      <td>40929.0</td>\n",
              "      <td>0.0</td>\n",
              "      <td>1.0</td>\n",
              "      <td>0.0</td>\n",
              "      <td>32.26</td>\n",
              "      <td>58.20</td>\n",
              "      <td>4.0</td>\n",
              "    </tr>\n",
              "    <tr>\n",
              "      <th>1</th>\n",
              "      <td>19.0</td>\n",
              "      <td>147.0</td>\n",
              "      <td>3.0</td>\n",
              "      <td>2013.0</td>\n",
              "      <td>54493.0</td>\n",
              "      <td>4.0</td>\n",
              "      <td>1.0</td>\n",
              "      <td>2.0</td>\n",
              "      <td>24.70</td>\n",
              "      <td>47.30</td>\n",
              "      <td>5.0</td>\n",
              "    </tr>\n",
              "    <tr>\n",
              "      <th>2</th>\n",
              "      <td>30.0</td>\n",
              "      <td>975.0</td>\n",
              "      <td>9.0</td>\n",
              "      <td>2017.0</td>\n",
              "      <td>34000.0</td>\n",
              "      <td>1.0</td>\n",
              "      <td>1.0</td>\n",
              "      <td>0.0</td>\n",
              "      <td>13.68</td>\n",
              "      <td>147.80</td>\n",
              "      <td>7.0</td>\n",
              "    </tr>\n",
              "    <tr>\n",
              "      <th>3</th>\n",
              "      <td>30.0</td>\n",
              "      <td>706.0</td>\n",
              "      <td>5.0</td>\n",
              "      <td>2012.0</td>\n",
              "      <td>139000.0</td>\n",
              "      <td>1.0</td>\n",
              "      <td>1.0</td>\n",
              "      <td>0.0</td>\n",
              "      <td>23.59</td>\n",
              "      <td>74.00</td>\n",
              "      <td>5.0</td>\n",
              "    </tr>\n",
              "    <tr>\n",
              "      <th>4</th>\n",
              "      <td>11.0</td>\n",
              "      <td>2023.0</td>\n",
              "      <td>9.0</td>\n",
              "      <td>2014.0</td>\n",
              "      <td>29000.0</td>\n",
              "      <td>4.0</td>\n",
              "      <td>1.0</td>\n",
              "      <td>0.0</td>\n",
              "      <td>18.50</td>\n",
              "      <td>82.85</td>\n",
              "      <td>5.0</td>\n",
              "    </tr>\n",
              "  </tbody>\n",
              "</table>\n",
              "</div>"
            ],
            "text/plain": [
              "     0       1    2       3         4    5    6    7      8       9    10\n",
              "0  19.0   157.0  4.0  2014.0   40929.0  0.0  1.0  0.0  32.26   58.20  4.0\n",
              "1  19.0   147.0  3.0  2013.0   54493.0  4.0  1.0  2.0  24.70   47.30  5.0\n",
              "2  30.0   975.0  9.0  2017.0   34000.0  1.0  1.0  0.0  13.68  147.80  7.0\n",
              "3  30.0   706.0  5.0  2012.0  139000.0  1.0  1.0  0.0  23.59   74.00  5.0\n",
              "4  11.0  2023.0  9.0  2014.0   29000.0  4.0  1.0  0.0  18.50   82.85  5.0"
            ]
          },
          "metadata": {
            "tags": []
          },
          "execution_count": 30
        }
      ]
    },
    {
      "cell_type": "code",
      "metadata": {
        "id": "BpkF7tg9uhD4",
        "colab_type": "code",
        "outputId": "13ddc765-4c96-4e6b-c592-63e572d27a0d",
        "colab": {
          "base_uri": "https://localhost:8080/",
          "height": 204
        }
      },
      "source": [
        "train_data.head()"
      ],
      "execution_count": 0,
      "outputs": [
        {
          "output_type": "execute_result",
          "data": {
            "text/html": [
              "<div>\n",
              "<style scoped>\n",
              "    .dataframe tbody tr th:only-of-type {\n",
              "        vertical-align: middle;\n",
              "    }\n",
              "\n",
              "    .dataframe tbody tr th {\n",
              "        vertical-align: top;\n",
              "    }\n",
              "\n",
              "    .dataframe thead th {\n",
              "        text-align: right;\n",
              "    }\n",
              "</style>\n",
              "<table border=\"1\" class=\"dataframe\">\n",
              "  <thead>\n",
              "    <tr style=\"text-align: right;\">\n",
              "      <th></th>\n",
              "      <th>Brand</th>\n",
              "      <th>Model</th>\n",
              "      <th>Location</th>\n",
              "      <th>Year</th>\n",
              "      <th>Kilometers_Driven</th>\n",
              "      <th>Fuel_Type</th>\n",
              "      <th>Transmission</th>\n",
              "      <th>Owner_Type</th>\n",
              "      <th>Mileage</th>\n",
              "      <th>Power</th>\n",
              "      <th>Seats</th>\n",
              "      <th>Price</th>\n",
              "    </tr>\n",
              "  </thead>\n",
              "  <tbody>\n",
              "    <tr>\n",
              "      <th>0</th>\n",
              "      <td>19</td>\n",
              "      <td>1797</td>\n",
              "      <td>9</td>\n",
              "      <td>2010</td>\n",
              "      <td>72000</td>\n",
              "      <td>0</td>\n",
              "      <td>1</td>\n",
              "      <td>0</td>\n",
              "      <td>26.60</td>\n",
              "      <td>58.16</td>\n",
              "      <td>5.0</td>\n",
              "      <td>1.75</td>\n",
              "    </tr>\n",
              "    <tr>\n",
              "      <th>1</th>\n",
              "      <td>11</td>\n",
              "      <td>498</td>\n",
              "      <td>10</td>\n",
              "      <td>2015</td>\n",
              "      <td>41000</td>\n",
              "      <td>1</td>\n",
              "      <td>1</td>\n",
              "      <td>0</td>\n",
              "      <td>19.67</td>\n",
              "      <td>126.20</td>\n",
              "      <td>5.0</td>\n",
              "      <td>12.50</td>\n",
              "    </tr>\n",
              "    <tr>\n",
              "      <th>2</th>\n",
              "      <td>10</td>\n",
              "      <td>993</td>\n",
              "      <td>2</td>\n",
              "      <td>2011</td>\n",
              "      <td>46000</td>\n",
              "      <td>4</td>\n",
              "      <td>1</td>\n",
              "      <td>0</td>\n",
              "      <td>18.20</td>\n",
              "      <td>88.70</td>\n",
              "      <td>5.0</td>\n",
              "      <td>4.50</td>\n",
              "    </tr>\n",
              "    <tr>\n",
              "      <th>3</th>\n",
              "      <td>19</td>\n",
              "      <td>676</td>\n",
              "      <td>2</td>\n",
              "      <td>2012</td>\n",
              "      <td>87000</td>\n",
              "      <td>1</td>\n",
              "      <td>1</td>\n",
              "      <td>0</td>\n",
              "      <td>20.77</td>\n",
              "      <td>88.76</td>\n",
              "      <td>7.0</td>\n",
              "      <td>6.00</td>\n",
              "    </tr>\n",
              "    <tr>\n",
              "      <th>4</th>\n",
              "      <td>1</td>\n",
              "      <td>105</td>\n",
              "      <td>3</td>\n",
              "      <td>2013</td>\n",
              "      <td>40670</td>\n",
              "      <td>1</td>\n",
              "      <td>0</td>\n",
              "      <td>2</td>\n",
              "      <td>15.20</td>\n",
              "      <td>140.80</td>\n",
              "      <td>5.0</td>\n",
              "      <td>17.74</td>\n",
              "    </tr>\n",
              "  </tbody>\n",
              "</table>\n",
              "</div>"
            ],
            "text/plain": [
              "   Brand  Model  Location  Year  ...  Mileage   Power  Seats  Price\n",
              "0     19   1797         9  2010  ...    26.60   58.16    5.0   1.75\n",
              "1     11    498        10  2015  ...    19.67  126.20    5.0  12.50\n",
              "2     10    993         2  2011  ...    18.20   88.70    5.0   4.50\n",
              "3     19    676         2  2012  ...    20.77   88.76    7.0   6.00\n",
              "4      1    105         3  2013  ...    15.20  140.80    5.0  17.74\n",
              "\n",
              "[5 rows x 12 columns]"
            ]
          },
          "metadata": {
            "tags": []
          },
          "execution_count": 14
        }
      ]
    },
    {
      "cell_type": "code",
      "metadata": {
        "id": "STFxJmmNubnW",
        "colab_type": "code",
        "outputId": "82b7e898-52c5-4ea1-d16e-bf91f6d2a623",
        "colab": {
          "base_uri": "https://localhost:8080/",
          "height": 204
        }
      },
      "source": [
        "test_data.head()"
      ],
      "execution_count": 0,
      "outputs": [
        {
          "output_type": "execute_result",
          "data": {
            "text/html": [
              "<div>\n",
              "<style scoped>\n",
              "    .dataframe tbody tr th:only-of-type {\n",
              "        vertical-align: middle;\n",
              "    }\n",
              "\n",
              "    .dataframe tbody tr th {\n",
              "        vertical-align: top;\n",
              "    }\n",
              "\n",
              "    .dataframe thead th {\n",
              "        text-align: right;\n",
              "    }\n",
              "</style>\n",
              "<table border=\"1\" class=\"dataframe\">\n",
              "  <thead>\n",
              "    <tr style=\"text-align: right;\">\n",
              "      <th></th>\n",
              "      <th>Brand</th>\n",
              "      <th>Model</th>\n",
              "      <th>Location</th>\n",
              "      <th>Year</th>\n",
              "      <th>Kilometers_Driven</th>\n",
              "      <th>Fuel_Type</th>\n",
              "      <th>Transmission</th>\n",
              "      <th>Owner_Type</th>\n",
              "      <th>Mileage</th>\n",
              "      <th>Power</th>\n",
              "      <th>Seats</th>\n",
              "    </tr>\n",
              "  </thead>\n",
              "  <tbody>\n",
              "    <tr>\n",
              "      <th>0</th>\n",
              "      <td>19</td>\n",
              "      <td>157</td>\n",
              "      <td>4</td>\n",
              "      <td>2014</td>\n",
              "      <td>40929</td>\n",
              "      <td>0</td>\n",
              "      <td>1</td>\n",
              "      <td>0</td>\n",
              "      <td>32.26</td>\n",
              "      <td>58.20</td>\n",
              "      <td>4.0</td>\n",
              "    </tr>\n",
              "    <tr>\n",
              "      <th>1</th>\n",
              "      <td>19</td>\n",
              "      <td>147</td>\n",
              "      <td>3</td>\n",
              "      <td>2013</td>\n",
              "      <td>54493</td>\n",
              "      <td>4</td>\n",
              "      <td>1</td>\n",
              "      <td>2</td>\n",
              "      <td>24.70</td>\n",
              "      <td>47.30</td>\n",
              "      <td>5.0</td>\n",
              "    </tr>\n",
              "    <tr>\n",
              "      <th>2</th>\n",
              "      <td>30</td>\n",
              "      <td>975</td>\n",
              "      <td>9</td>\n",
              "      <td>2017</td>\n",
              "      <td>34000</td>\n",
              "      <td>1</td>\n",
              "      <td>1</td>\n",
              "      <td>0</td>\n",
              "      <td>13.68</td>\n",
              "      <td>147.80</td>\n",
              "      <td>7.0</td>\n",
              "    </tr>\n",
              "    <tr>\n",
              "      <th>3</th>\n",
              "      <td>30</td>\n",
              "      <td>706</td>\n",
              "      <td>5</td>\n",
              "      <td>2012</td>\n",
              "      <td>139000</td>\n",
              "      <td>1</td>\n",
              "      <td>1</td>\n",
              "      <td>0</td>\n",
              "      <td>23.59</td>\n",
              "      <td>NaN</td>\n",
              "      <td>5.0</td>\n",
              "    </tr>\n",
              "    <tr>\n",
              "      <th>4</th>\n",
              "      <td>11</td>\n",
              "      <td>2023</td>\n",
              "      <td>9</td>\n",
              "      <td>2014</td>\n",
              "      <td>29000</td>\n",
              "      <td>4</td>\n",
              "      <td>1</td>\n",
              "      <td>0</td>\n",
              "      <td>18.50</td>\n",
              "      <td>82.85</td>\n",
              "      <td>5.0</td>\n",
              "    </tr>\n",
              "  </tbody>\n",
              "</table>\n",
              "</div>"
            ],
            "text/plain": [
              "   Brand  Model  Location  Year  ...  Owner_Type  Mileage   Power  Seats\n",
              "0     19    157         4  2014  ...           0    32.26   58.20    4.0\n",
              "1     19    147         3  2013  ...           2    24.70   47.30    5.0\n",
              "2     30    975         9  2017  ...           0    13.68  147.80    7.0\n",
              "3     30    706         5  2012  ...           0    23.59     NaN    5.0\n",
              "4     11   2023         9  2014  ...           0    18.50   82.85    5.0\n",
              "\n",
              "[5 rows x 11 columns]"
            ]
          },
          "metadata": {
            "tags": []
          },
          "execution_count": 15
        }
      ]
    },
    {
      "cell_type": "code",
      "metadata": {
        "id": "x_bc-BemUb8i",
        "colab_type": "code",
        "colab": {}
      },
      "source": [
        "df = pd.DataFrame(Imp_train_data)"
      ],
      "execution_count": 0,
      "outputs": []
    },
    {
      "cell_type": "code",
      "metadata": {
        "id": "AdPxP49Kn7hN",
        "colab_type": "code",
        "outputId": "f32fed0d-46df-450b-df65-d3d5e3348e08",
        "colab": {
          "base_uri": "https://localhost:8080/",
          "height": 238
        }
      },
      "source": [
        "df.isnull().sum()"
      ],
      "execution_count": 13,
      "outputs": [
        {
          "output_type": "execute_result",
          "data": {
            "text/plain": [
              "0     0\n",
              "1     0\n",
              "2     0\n",
              "3     0\n",
              "4     0\n",
              "5     0\n",
              "6     0\n",
              "7     0\n",
              "8     0\n",
              "9     0\n",
              "10    0\n",
              "11    0\n",
              "dtype: int64"
            ]
          },
          "metadata": {
            "tags": []
          },
          "execution_count": 13
        }
      ]
    },
    {
      "cell_type": "code",
      "metadata": {
        "id": "bLxqlrWKfblQ",
        "colab_type": "code",
        "outputId": "85727ecf-bb11-4ad3-c631-5cac0947a306",
        "colab": {
          "base_uri": "https://localhost:8080/",
          "height": 119
        }
      },
      "source": [
        "y = df[[11]]\n",
        "print(y.head())"
      ],
      "execution_count": 14,
      "outputs": [
        {
          "output_type": "stream",
          "text": [
            "      11\n",
            "0   1.75\n",
            "1  12.50\n",
            "2   4.50\n",
            "3   6.00\n",
            "4  17.74\n"
          ],
          "name": "stdout"
        }
      ]
    },
    {
      "cell_type": "code",
      "metadata": {
        "id": "UyBpvAQ7oBnU",
        "colab_type": "code",
        "outputId": "896eb596-0b56-4880-ca4c-49d14ec4f5b3",
        "colab": {
          "base_uri": "https://localhost:8080/",
          "height": 51
        }
      },
      "source": [
        "y.isnull().sum()"
      ],
      "execution_count": 15,
      "outputs": [
        {
          "output_type": "execute_result",
          "data": {
            "text/plain": [
              "11    0\n",
              "dtype: int64"
            ]
          },
          "metadata": {
            "tags": []
          },
          "execution_count": 15
        }
      ]
    },
    {
      "cell_type": "code",
      "metadata": {
        "id": "sqzs9ut3eiQQ",
        "colab_type": "code",
        "colab": {}
      },
      "source": [
        "df = df.iloc[:,:-1]"
      ],
      "execution_count": 0,
      "outputs": []
    },
    {
      "cell_type": "code",
      "metadata": {
        "id": "LMB-9fgKWuK4",
        "colab_type": "code",
        "outputId": "fef09536-376b-40cc-f1e6-8934c8fbc939",
        "colab": {
          "base_uri": "https://localhost:8080/",
          "height": 204
        }
      },
      "source": [
        "df.head()"
      ],
      "execution_count": 17,
      "outputs": [
        {
          "output_type": "execute_result",
          "data": {
            "text/html": [
              "<div>\n",
              "<style scoped>\n",
              "    .dataframe tbody tr th:only-of-type {\n",
              "        vertical-align: middle;\n",
              "    }\n",
              "\n",
              "    .dataframe tbody tr th {\n",
              "        vertical-align: top;\n",
              "    }\n",
              "\n",
              "    .dataframe thead th {\n",
              "        text-align: right;\n",
              "    }\n",
              "</style>\n",
              "<table border=\"1\" class=\"dataframe\">\n",
              "  <thead>\n",
              "    <tr style=\"text-align: right;\">\n",
              "      <th></th>\n",
              "      <th>0</th>\n",
              "      <th>1</th>\n",
              "      <th>2</th>\n",
              "      <th>3</th>\n",
              "      <th>4</th>\n",
              "      <th>5</th>\n",
              "      <th>6</th>\n",
              "      <th>7</th>\n",
              "      <th>8</th>\n",
              "      <th>9</th>\n",
              "      <th>10</th>\n",
              "    </tr>\n",
              "  </thead>\n",
              "  <tbody>\n",
              "    <tr>\n",
              "      <th>0</th>\n",
              "      <td>19.0</td>\n",
              "      <td>1797.0</td>\n",
              "      <td>9.0</td>\n",
              "      <td>2010.0</td>\n",
              "      <td>72000.0</td>\n",
              "      <td>0.0</td>\n",
              "      <td>1.0</td>\n",
              "      <td>0.0</td>\n",
              "      <td>26.60</td>\n",
              "      <td>58.16</td>\n",
              "      <td>5.0</td>\n",
              "    </tr>\n",
              "    <tr>\n",
              "      <th>1</th>\n",
              "      <td>11.0</td>\n",
              "      <td>498.0</td>\n",
              "      <td>10.0</td>\n",
              "      <td>2015.0</td>\n",
              "      <td>41000.0</td>\n",
              "      <td>1.0</td>\n",
              "      <td>1.0</td>\n",
              "      <td>0.0</td>\n",
              "      <td>19.67</td>\n",
              "      <td>126.20</td>\n",
              "      <td>5.0</td>\n",
              "    </tr>\n",
              "    <tr>\n",
              "      <th>2</th>\n",
              "      <td>10.0</td>\n",
              "      <td>993.0</td>\n",
              "      <td>2.0</td>\n",
              "      <td>2011.0</td>\n",
              "      <td>46000.0</td>\n",
              "      <td>4.0</td>\n",
              "      <td>1.0</td>\n",
              "      <td>0.0</td>\n",
              "      <td>18.20</td>\n",
              "      <td>88.70</td>\n",
              "      <td>5.0</td>\n",
              "    </tr>\n",
              "    <tr>\n",
              "      <th>3</th>\n",
              "      <td>19.0</td>\n",
              "      <td>676.0</td>\n",
              "      <td>2.0</td>\n",
              "      <td>2012.0</td>\n",
              "      <td>87000.0</td>\n",
              "      <td>1.0</td>\n",
              "      <td>1.0</td>\n",
              "      <td>0.0</td>\n",
              "      <td>20.77</td>\n",
              "      <td>88.76</td>\n",
              "      <td>7.0</td>\n",
              "    </tr>\n",
              "    <tr>\n",
              "      <th>4</th>\n",
              "      <td>1.0</td>\n",
              "      <td>105.0</td>\n",
              "      <td>3.0</td>\n",
              "      <td>2013.0</td>\n",
              "      <td>40670.0</td>\n",
              "      <td>1.0</td>\n",
              "      <td>0.0</td>\n",
              "      <td>2.0</td>\n",
              "      <td>15.20</td>\n",
              "      <td>140.80</td>\n",
              "      <td>5.0</td>\n",
              "    </tr>\n",
              "  </tbody>\n",
              "</table>\n",
              "</div>"
            ],
            "text/plain": [
              "     0       1     2       3        4    5    6    7      8       9    10\n",
              "0  19.0  1797.0   9.0  2010.0  72000.0  0.0  1.0  0.0  26.60   58.16  5.0\n",
              "1  11.0   498.0  10.0  2015.0  41000.0  1.0  1.0  0.0  19.67  126.20  5.0\n",
              "2  10.0   993.0   2.0  2011.0  46000.0  4.0  1.0  0.0  18.20   88.70  5.0\n",
              "3  19.0   676.0   2.0  2012.0  87000.0  1.0  1.0  0.0  20.77   88.76  7.0\n",
              "4   1.0   105.0   3.0  2013.0  40670.0  1.0  0.0  2.0  15.20  140.80  5.0"
            ]
          },
          "metadata": {
            "tags": []
          },
          "execution_count": 17
        }
      ]
    },
    {
      "cell_type": "code",
      "metadata": {
        "id": "ar2xZWWPXNro",
        "colab_type": "code",
        "outputId": "873ebc4d-cdfa-4722-ed64-d0408e35a469",
        "colab": {
          "base_uri": "https://localhost:8080/",
          "height": 51
        }
      },
      "source": [
        "print(df.shape)\n",
        "print(y.shape)"
      ],
      "execution_count": 18,
      "outputs": [
        {
          "output_type": "stream",
          "text": [
            "(6019, 11)\n",
            "(6019, 1)\n"
          ],
          "name": "stdout"
        }
      ]
    },
    {
      "cell_type": "markdown",
      "metadata": {
        "id": "7fRx2IduXWu-",
        "colab_type": "text"
      },
      "source": [
        "**Data Split**"
      ]
    },
    {
      "cell_type": "code",
      "metadata": {
        "id": "OQzrFdNgb2DK",
        "colab_type": "code",
        "colab": {}
      },
      "source": [
        "#Scaling Original Training Data\n",
        "sc = StandardScaler()\n",
        "\n",
        "#Scaling Original Training Data\n",
        "df = sc.fit_transform(df)\n",
        "y = sc.fit_transform(y)\n"
      ],
      "execution_count": 0,
      "outputs": []
    },
    {
      "cell_type": "code",
      "metadata": {
        "id": "WB5Mz4SAXUuR",
        "colab_type": "code",
        "outputId": "917e62e4-c2e4-4a42-849a-873cb6fe00c6",
        "colab": {
          "base_uri": "https://localhost:8080/",
          "height": 51
        }
      },
      "source": [
        "# create training and testing vars\n",
        "X_train, X_test, y_train, y_test = train_test_split(df, y, test_size=0.2)\n",
        "print(\"X_train =\", X_train.shape,\"y_train =\" , y_train.shape)\n",
        "print(\"X_test =\", X_test.shape,\"y_test =\",  y_test.shape)\n"
      ],
      "execution_count": 20,
      "outputs": [
        {
          "output_type": "stream",
          "text": [
            "X_train = (4815, 11) y_train = (4815, 1)\n",
            "X_test = (1204, 11) y_test = (1204, 1)\n"
          ],
          "name": "stdout"
        }
      ]
    },
    {
      "cell_type": "code",
      "metadata": {
        "id": "YkhYpuTqabNg",
        "colab_type": "code",
        "colab": {}
      },
      "source": [
        "pd.DataFrame(X_train).head()"
      ],
      "execution_count": 0,
      "outputs": []
    },
    {
      "cell_type": "code",
      "metadata": {
        "id": "eD-SgNDgavz4",
        "colab_type": "code",
        "colab": {}
      },
      "source": [
        "pd.DataFrame(y_train).head()"
      ],
      "execution_count": 0,
      "outputs": []
    },
    {
      "cell_type": "code",
      "metadata": {
        "id": "r_6Nr3z_bPn7",
        "colab_type": "code",
        "colab": {}
      },
      "source": [
        "pd.DataFrame(X_test).head()"
      ],
      "execution_count": 0,
      "outputs": []
    },
    {
      "cell_type": "code",
      "metadata": {
        "id": "0rMbGjmVgbUh",
        "colab_type": "code",
        "colab": {}
      },
      "source": [
        "pd.DataFrame(y_test).head()"
      ],
      "execution_count": 0,
      "outputs": []
    },
    {
      "cell_type": "markdown",
      "metadata": {
        "id": "0fHT5xPfgui2",
        "colab_type": "text"
      },
      "source": [
        "**Model**"
      ]
    },
    {
      "cell_type": "code",
      "metadata": {
        "id": "rIhr1btQswY8",
        "colab_type": "code",
        "colab": {}
      },
      "source": [
        "parameters_for_testing = {\n",
        "    'colsample_bytree':[0.4,0.6,0.8],\n",
        "    'gamma':[0,0.03,0.1,0.3],\n",
        "    'min_child_weight':[1.5,6,10],\n",
        "'learning_rate':[0.1,0.07],\n",
        "'max_depth':[3,5],\n",
        "   'n_estimators':[10000],\n",
        "   'reg_alpha':[1e-5, 1e-2,  0.75],\n",
        "   'reg_lambda':[1e-5, 1e-2, 0.45],\n",
        "   'subsample':[0.6,0.95]  \n",
        "}\n",
        "xgb_model = xgboost.XGBRegressor(learning_rate =0.1, n_estimators=1000, max_depth=5,min_child_weight=1, gamma=0, subsample=0.8, colsample_bytree=0.8, nthread=6, scale_pos_weight=1, seed=27)\n",
        "\n",
        "gsearch1 = GridSearchCV(estimator = xgb_model, param_grid = parameters_for_testing, n_jobs=6,iid=False, verbose=10,scoring='neg_mean_squared_error')\n",
        "gsearch1.fit(X_train,y_train)\n",
        "print (gsearch1.grid_scores_)\n",
        "print('best params')\n",
        "print (gsearch1.best_params_)\n",
        "print('best score')\n",
        "print (gsearch1.best_score_)"
      ],
      "execution_count": 0,
      "outputs": []
    },
    {
      "cell_type": "code",
      "metadata": {
        "id": "x4I7H2Qfgwhh",
        "colab_type": "code",
        "outputId": "eea0e295-2128-483b-e1cb-9c99aaffb75c",
        "colab": {
          "base_uri": "https://localhost:8080/",
          "height": 170
        }
      },
      "source": [
        "best_xgb_model = xgboost.XGBRegressor(colsample_bytree=0.8,\n",
        "                 gamma=0,                 \n",
        "                 learning_rate=0.1,\n",
        "                 max_depth=4,\n",
        "                 min_child_weight=1.5,\n",
        "                 n_estimators=10000,                                                                    \n",
        "                 reg_alpha=0.75,\n",
        "                 reg_lambda=0.45,\n",
        "                 subsample=0.8,\n",
        "                 seed=42)\n",
        "best_xgb_model.fit(X_train,y_train)"
      ],
      "execution_count": 22,
      "outputs": [
        {
          "output_type": "stream",
          "text": [
            "[09:09:27] WARNING: /workspace/src/objective/regression_obj.cu:152: reg:linear is now deprecated in favor of reg:squarederror.\n"
          ],
          "name": "stdout"
        },
        {
          "output_type": "execute_result",
          "data": {
            "text/plain": [
              "XGBRegressor(base_score=0.5, booster='gbtree', colsample_bylevel=1,\n",
              "             colsample_bynode=1, colsample_bytree=0.8, gamma=0,\n",
              "             importance_type='gain', learning_rate=0.1, max_delta_step=0,\n",
              "             max_depth=4, min_child_weight=1.5, missing=None,\n",
              "             n_estimators=10000, n_jobs=1, nthread=None, objective='reg:linear',\n",
              "             random_state=0, reg_alpha=0.75, reg_lambda=0.45,\n",
              "             scale_pos_weight=1, seed=42, silent=None, subsample=0.8,\n",
              "             verbosity=1)"
            ]
          },
          "metadata": {
            "tags": []
          },
          "execution_count": 22
        }
      ]
    },
    {
      "cell_type": "code",
      "metadata": {
        "id": "eHsQubpCuYGu",
        "colab_type": "code",
        "outputId": "29d26dbf-fe98-495c-dab6-d55165bec3c7",
        "colab": {
          "base_uri": "https://localhost:8080/",
          "height": 153
        }
      },
      "source": [
        "best_xgb_model_2=xgboost.XGBRegressor(\n",
        "                        base_score=0.5,\n",
        "                        booster='gbtree',\n",
        "                        colsample_bylevel=1,\n",
        "                        colsample_bynode=1,\n",
        "                        colsample_bytree=0.8,\n",
        "                        gamma=0,\n",
        "                       importance_type='gain',\n",
        "                       learning_rate=0.1, \n",
        "                       max_delta_step=0,\n",
        "                       max_depth=5,\n",
        "                       min_child_weight=1, \n",
        "                       missing=None,\n",
        "                       n_estimators=1000,\n",
        "                       n_jobs=1,\n",
        "                       nthread=6,\n",
        "                       objective='reg:linear',\n",
        "                       random_state=0,\n",
        "                       reg_alpha=0, \n",
        "                       reg_lambda=1, \n",
        "                       scale_pos_weight=1,\n",
        "                       seed=27,\n",
        "                       silent=None,\n",
        "                       subsample=0.8,\n",
        "                       verbosity=1)\n",
        "best_xgb_model_2.fit(X_train,y_train)"
      ],
      "execution_count": 23,
      "outputs": [
        {
          "output_type": "stream",
          "text": [
            "[09:09:58] WARNING: /workspace/src/objective/regression_obj.cu:152: reg:linear is now deprecated in favor of reg:squarederror.\n"
          ],
          "name": "stdout"
        },
        {
          "output_type": "execute_result",
          "data": {
            "text/plain": [
              "XGBRegressor(base_score=0.5, booster='gbtree', colsample_bylevel=1,\n",
              "             colsample_bynode=1, colsample_bytree=0.8, gamma=0,\n",
              "             importance_type='gain', learning_rate=0.1, max_delta_step=0,\n",
              "             max_depth=5, min_child_weight=1, missing=None, n_estimators=1000,\n",
              "             n_jobs=1, nthread=6, objective='reg:linear', random_state=0,\n",
              "             reg_alpha=0, reg_lambda=1, scale_pos_weight=1, seed=27,\n",
              "             silent=None, subsample=0.8, verbosity=1)"
            ]
          },
          "metadata": {
            "tags": []
          },
          "execution_count": 23
        }
      ]
    },
    {
      "cell_type": "code",
      "metadata": {
        "id": "sNHByJC7A96v",
        "colab_type": "code",
        "outputId": "fb996f16-25e0-4ff5-c777-cd91b6600977",
        "colab": {
          "base_uri": "https://localhost:8080/",
          "height": 68
        }
      },
      "source": [
        "print('The accuracy of the xgboost is {:.2f} out of 1 on the training data'.format(best_xgb_model.score(X_train, y_train)))\n",
        "print('The accuracy of the xgboost is {:.4f} out of 1 on the test data'.format(best_xgb_model.score(X_test, y_test)))\n",
        "print('The accuracy of the xgboost_2 is {:.4f} out of 1 on the test data'.format(best_xgb_model_2.score(X_test, y_test)))"
      ],
      "execution_count": 24,
      "outputs": [
        {
          "output_type": "stream",
          "text": [
            "The accuracy of the xgboost is 1.00 out of 1 on the training data\n",
            "The accuracy of the xgboost is 0.8748 out of 1 on the test data\n",
            "The accuracy of the xgboost_2 is 0.8734 out of 1 on the test data\n"
          ],
          "name": "stdout"
        }
      ]
    },
    {
      "cell_type": "code",
      "metadata": {
        "id": "2rFurx639OMG",
        "colab_type": "code",
        "colab": {}
      },
      "source": [
        "def rmsle(y_true, y_pred):\n",
        "    assert len(y_true) == len(y_pred)\n",
        "    return np.sqrt(np.mean(np.power(np.log1p(y_true + 1) - np.log1p(y_pred + 1), 2)))"
      ],
      "execution_count": 0,
      "outputs": []
    },
    {
      "cell_type": "code",
      "metadata": {
        "id": "4WpahuKr9ZAT",
        "colab_type": "code",
        "colab": {}
      },
      "source": [
        "y_pred = best_xgb_model.predict(X_test)"
      ],
      "execution_count": 0,
      "outputs": []
    },
    {
      "cell_type": "code",
      "metadata": {
        "id": "4Tz0hCClJXuZ",
        "colab_type": "code",
        "outputId": "e746095c-6367-4cc5-e74d-1ff4533f567c",
        "colab": {
          "base_uri": "https://localhost:8080/",
          "height": 204
        }
      },
      "source": [
        "pd.DataFrame(y_test,y_pred).head()"
      ],
      "execution_count": 27,
      "outputs": [
        {
          "output_type": "execute_result",
          "data": {
            "text/html": [
              "<div>\n",
              "<style scoped>\n",
              "    .dataframe tbody tr th:only-of-type {\n",
              "        vertical-align: middle;\n",
              "    }\n",
              "\n",
              "    .dataframe tbody tr th {\n",
              "        vertical-align: top;\n",
              "    }\n",
              "\n",
              "    .dataframe thead th {\n",
              "        text-align: right;\n",
              "    }\n",
              "</style>\n",
              "<table border=\"1\" class=\"dataframe\">\n",
              "  <thead>\n",
              "    <tr style=\"text-align: right;\">\n",
              "      <th></th>\n",
              "      <th>0</th>\n",
              "    </tr>\n",
              "  </thead>\n",
              "  <tbody>\n",
              "    <tr>\n",
              "      <th>-0.334395</th>\n",
              "      <td>-0.376283</td>\n",
              "    </tr>\n",
              "    <tr>\n",
              "      <th>3.322362</th>\n",
              "      <td>3.641779</td>\n",
              "    </tr>\n",
              "    <tr>\n",
              "      <th>-0.640926</th>\n",
              "      <td>-0.691828</td>\n",
              "    </tr>\n",
              "    <tr>\n",
              "      <th>-0.089106</th>\n",
              "      <td>0.135920</td>\n",
              "    </tr>\n",
              "    <tr>\n",
              "      <th>0.035823</th>\n",
              "      <td>-0.132249</td>\n",
              "    </tr>\n",
              "  </tbody>\n",
              "</table>\n",
              "</div>"
            ],
            "text/plain": [
              "                  0\n",
              "-0.334395 -0.376283\n",
              " 3.322362  3.641779\n",
              "-0.640926 -0.691828\n",
              "-0.089106  0.135920\n",
              " 0.035823 -0.132249"
            ]
          },
          "metadata": {
            "tags": []
          },
          "execution_count": 27
        }
      ]
    },
    {
      "cell_type": "code",
      "metadata": {
        "id": "UgTUYyedpL6P",
        "colab_type": "code",
        "colab": {}
      },
      "source": [
        "X_test_ori = sc.inverse_transform(X_test)"
      ],
      "execution_count": 0,
      "outputs": []
    },
    {
      "cell_type": "code",
      "metadata": {
        "id": "f1jhvWQEny6_",
        "colab_type": "code",
        "colab": {}
      },
      "source": [
        "y_test_ori = sc.inverse_transform(y_test)\n",
        "y_pred_ori = sc.inverse_transform(y_pred)"
      ],
      "execution_count": 0,
      "outputs": []
    },
    {
      "cell_type": "code",
      "metadata": {
        "id": "9IxHEuZan69-",
        "colab_type": "code",
        "outputId": "8b030b3d-786a-4ef1-b1fe-d924dfefd33e",
        "colab": {
          "base_uri": "https://localhost:8080/",
          "height": 204
        }
      },
      "source": [
        "pd.DataFrame(y_test_ori,y_pred_ori).head()"
      ],
      "execution_count": 30,
      "outputs": [
        {
          "output_type": "execute_result",
          "data": {
            "text/html": [
              "<div>\n",
              "<style scoped>\n",
              "    .dataframe tbody tr th:only-of-type {\n",
              "        vertical-align: middle;\n",
              "    }\n",
              "\n",
              "    .dataframe tbody tr th {\n",
              "        vertical-align: top;\n",
              "    }\n",
              "\n",
              "    .dataframe thead th {\n",
              "        text-align: right;\n",
              "    }\n",
              "</style>\n",
              "<table border=\"1\" class=\"dataframe\">\n",
              "  <thead>\n",
              "    <tr style=\"text-align: right;\">\n",
              "      <th></th>\n",
              "      <th>0</th>\n",
              "    </tr>\n",
              "  </thead>\n",
              "  <tbody>\n",
              "    <tr>\n",
              "      <th>5.738594</th>\n",
              "      <td>5.27</td>\n",
              "    </tr>\n",
              "    <tr>\n",
              "      <th>46.646694</th>\n",
              "      <td>50.22</td>\n",
              "    </tr>\n",
              "    <tr>\n",
              "      <th>2.309441</th>\n",
              "      <td>1.74</td>\n",
              "    </tr>\n",
              "    <tr>\n",
              "      <th>8.482644</th>\n",
              "      <td>11.00</td>\n",
              "    </tr>\n",
              "    <tr>\n",
              "      <th>9.880222</th>\n",
              "      <td>8.00</td>\n",
              "    </tr>\n",
              "  </tbody>\n",
              "</table>\n",
              "</div>"
            ],
            "text/plain": [
              "               0\n",
              "5.738594    5.27\n",
              "46.646694  50.22\n",
              "2.309441    1.74\n",
              "8.482644   11.00\n",
              "9.880222    8.00"
            ]
          },
          "metadata": {
            "tags": []
          },
          "execution_count": 30
        }
      ]
    },
    {
      "cell_type": "code",
      "metadata": {
        "id": "s9_l9v8O9T5G",
        "colab_type": "code",
        "outputId": "0a60bca2-05f8-40ce-f047-6bd28a23d2e5",
        "colab": {
          "base_uri": "https://localhost:8080/",
          "height": 34
        }
      },
      "source": [
        "rmsle(y_test_ori, y_pred_ori)"
      ],
      "execution_count": 31,
      "outputs": [
        {
          "output_type": "execute_result",
          "data": {
            "text/plain": [
              "0.9278875001512467"
            ]
          },
          "metadata": {
            "tags": []
          },
          "execution_count": 31
        }
      ]
    },
    {
      "cell_type": "code",
      "metadata": {
        "id": "ON4nRaJUqRJb",
        "colab_type": "code",
        "colab": {}
      },
      "source": [
        "dft = pd.DataFrame(Imp_test_data)"
      ],
      "execution_count": 0,
      "outputs": []
    },
    {
      "cell_type": "code",
      "metadata": {
        "id": "9c4mmWNPs-mt",
        "colab_type": "code",
        "outputId": "63cbd344-2b6b-4a1d-cec8-702d67df3cd1",
        "colab": {
          "base_uri": "https://localhost:8080/",
          "height": 204
        }
      },
      "source": [
        "dft.head()"
      ],
      "execution_count": 34,
      "outputs": [
        {
          "output_type": "execute_result",
          "data": {
            "text/html": [
              "<div>\n",
              "<style scoped>\n",
              "    .dataframe tbody tr th:only-of-type {\n",
              "        vertical-align: middle;\n",
              "    }\n",
              "\n",
              "    .dataframe tbody tr th {\n",
              "        vertical-align: top;\n",
              "    }\n",
              "\n",
              "    .dataframe thead th {\n",
              "        text-align: right;\n",
              "    }\n",
              "</style>\n",
              "<table border=\"1\" class=\"dataframe\">\n",
              "  <thead>\n",
              "    <tr style=\"text-align: right;\">\n",
              "      <th></th>\n",
              "      <th>0</th>\n",
              "      <th>1</th>\n",
              "      <th>2</th>\n",
              "      <th>3</th>\n",
              "      <th>4</th>\n",
              "      <th>5</th>\n",
              "      <th>6</th>\n",
              "      <th>7</th>\n",
              "      <th>8</th>\n",
              "      <th>9</th>\n",
              "      <th>10</th>\n",
              "    </tr>\n",
              "  </thead>\n",
              "  <tbody>\n",
              "    <tr>\n",
              "      <th>0</th>\n",
              "      <td>19.0</td>\n",
              "      <td>157.0</td>\n",
              "      <td>4.0</td>\n",
              "      <td>2014.0</td>\n",
              "      <td>40929.0</td>\n",
              "      <td>0.0</td>\n",
              "      <td>1.0</td>\n",
              "      <td>0.0</td>\n",
              "      <td>32.26</td>\n",
              "      <td>58.20</td>\n",
              "      <td>4.0</td>\n",
              "    </tr>\n",
              "    <tr>\n",
              "      <th>1</th>\n",
              "      <td>19.0</td>\n",
              "      <td>147.0</td>\n",
              "      <td>3.0</td>\n",
              "      <td>2013.0</td>\n",
              "      <td>54493.0</td>\n",
              "      <td>4.0</td>\n",
              "      <td>1.0</td>\n",
              "      <td>2.0</td>\n",
              "      <td>24.70</td>\n",
              "      <td>47.30</td>\n",
              "      <td>5.0</td>\n",
              "    </tr>\n",
              "    <tr>\n",
              "      <th>2</th>\n",
              "      <td>30.0</td>\n",
              "      <td>975.0</td>\n",
              "      <td>9.0</td>\n",
              "      <td>2017.0</td>\n",
              "      <td>34000.0</td>\n",
              "      <td>1.0</td>\n",
              "      <td>1.0</td>\n",
              "      <td>0.0</td>\n",
              "      <td>13.68</td>\n",
              "      <td>147.80</td>\n",
              "      <td>7.0</td>\n",
              "    </tr>\n",
              "    <tr>\n",
              "      <th>3</th>\n",
              "      <td>30.0</td>\n",
              "      <td>706.0</td>\n",
              "      <td>5.0</td>\n",
              "      <td>2012.0</td>\n",
              "      <td>139000.0</td>\n",
              "      <td>1.0</td>\n",
              "      <td>1.0</td>\n",
              "      <td>0.0</td>\n",
              "      <td>23.59</td>\n",
              "      <td>74.00</td>\n",
              "      <td>5.0</td>\n",
              "    </tr>\n",
              "    <tr>\n",
              "      <th>4</th>\n",
              "      <td>11.0</td>\n",
              "      <td>2023.0</td>\n",
              "      <td>9.0</td>\n",
              "      <td>2014.0</td>\n",
              "      <td>29000.0</td>\n",
              "      <td>4.0</td>\n",
              "      <td>1.0</td>\n",
              "      <td>0.0</td>\n",
              "      <td>18.50</td>\n",
              "      <td>82.85</td>\n",
              "      <td>5.0</td>\n",
              "    </tr>\n",
              "  </tbody>\n",
              "</table>\n",
              "</div>"
            ],
            "text/plain": [
              "     0       1    2       3         4    5    6    7      8       9    10\n",
              "0  19.0   157.0  4.0  2014.0   40929.0  0.0  1.0  0.0  32.26   58.20  4.0\n",
              "1  19.0   147.0  3.0  2013.0   54493.0  4.0  1.0  2.0  24.70   47.30  5.0\n",
              "2  30.0   975.0  9.0  2017.0   34000.0  1.0  1.0  0.0  13.68  147.80  7.0\n",
              "3  30.0   706.0  5.0  2012.0  139000.0  1.0  1.0  0.0  23.59   74.00  5.0\n",
              "4  11.0  2023.0  9.0  2014.0   29000.0  4.0  1.0  0.0  18.50   82.85  5.0"
            ]
          },
          "metadata": {
            "tags": []
          },
          "execution_count": 34
        }
      ]
    },
    {
      "cell_type": "code",
      "metadata": {
        "id": "VJebeQTgqC-e",
        "colab_type": "code",
        "colab": {}
      },
      "source": [
        "dft = sc.fit_transform(dft)"
      ],
      "execution_count": 0,
      "outputs": []
    },
    {
      "cell_type": "code",
      "metadata": {
        "id": "fKM22zOcqV2I",
        "colab_type": "code",
        "outputId": "e95a8261-7709-444b-c2e6-7a310b109458",
        "colab": {
          "base_uri": "https://localhost:8080/",
          "height": 238
        }
      },
      "source": [
        "dft"
      ],
      "execution_count": 0,
      "outputs": [
        {
          "output_type": "execute_result",
          "data": {
            "text/plain": [
              "array([[ 0.30009112, -1.34538264, -0.53870012, ...,  3.15634249,\n",
              "        -1.00116036, -1.55956029],\n",
              "       [ 0.30009112, -1.36151732, -0.86811338, ...,  1.46234081,\n",
              "        -1.21414407, -0.34306383],\n",
              "       [ 1.57503225, -0.02556575,  1.10836616, ..., -1.00695793,\n",
              "         0.74960487,  2.08992909],\n",
              "       ...,\n",
              "       [ 0.76370608,  0.17773122,  0.7789529 , ...,  1.09934045,\n",
              "        -0.90541538, -0.34306383],\n",
              "       [ 1.69093599,  0.4213649 ,  1.43777942, ..., -0.21821641,\n",
              "        -0.11405387, -0.34306383],\n",
              "       [ 0.41599486, -0.70967622,  0.44953965, ..., -1.83155134,\n",
              "         1.18338822, -0.34306383]])"
            ]
          },
          "metadata": {
            "tags": []
          },
          "execution_count": 529
        }
      ]
    },
    {
      "cell_type": "code",
      "metadata": {
        "id": "oQP0s4fxrA2X",
        "colab_type": "code",
        "colab": {}
      },
      "source": [
        "test_pred = best_xgb_model.predict(dft)"
      ],
      "execution_count": 0,
      "outputs": []
    },
    {
      "cell_type": "code",
      "metadata": {
        "id": "7AMIc_3Qx-1R",
        "colab_type": "code",
        "outputId": "e5686e7a-16b1-4857-f4f7-ce54bb3dea72",
        "colab": {
          "base_uri": "https://localhost:8080/",
          "height": 204
        }
      },
      "source": [
        "pd.DataFrame(test_pred).head()"
      ],
      "execution_count": 37,
      "outputs": [
        {
          "output_type": "execute_result",
          "data": {
            "text/html": [
              "<div>\n",
              "<style scoped>\n",
              "    .dataframe tbody tr th:only-of-type {\n",
              "        vertical-align: middle;\n",
              "    }\n",
              "\n",
              "    .dataframe tbody tr th {\n",
              "        vertical-align: top;\n",
              "    }\n",
              "\n",
              "    .dataframe thead th {\n",
              "        text-align: right;\n",
              "    }\n",
              "</style>\n",
              "<table border=\"1\" class=\"dataframe\">\n",
              "  <thead>\n",
              "    <tr style=\"text-align: right;\">\n",
              "      <th></th>\n",
              "      <th>0</th>\n",
              "    </tr>\n",
              "  </thead>\n",
              "  <tbody>\n",
              "    <tr>\n",
              "      <th>0</th>\n",
              "      <td>-0.544989</td>\n",
              "    </tr>\n",
              "    <tr>\n",
              "      <th>1</th>\n",
              "      <td>-0.579110</td>\n",
              "    </tr>\n",
              "    <tr>\n",
              "      <th>2</th>\n",
              "      <td>0.724251</td>\n",
              "    </tr>\n",
              "    <tr>\n",
              "      <th>3</th>\n",
              "      <td>-0.564979</td>\n",
              "    </tr>\n",
              "    <tr>\n",
              "      <th>4</th>\n",
              "      <td>-0.409175</td>\n",
              "    </tr>\n",
              "  </tbody>\n",
              "</table>\n",
              "</div>"
            ],
            "text/plain": [
              "          0\n",
              "0 -0.544989\n",
              "1 -0.579110\n",
              "2  0.724251\n",
              "3 -0.564979\n",
              "4 -0.409175"
            ]
          },
          "metadata": {
            "tags": []
          },
          "execution_count": 37
        }
      ]
    },
    {
      "cell_type": "code",
      "metadata": {
        "id": "72ju0F7IvxWk",
        "colab_type": "code",
        "outputId": "c112d4e4-2ac0-4a41-a386-3aaa69b96df5",
        "colab": {
          "base_uri": "https://localhost:8080/",
          "height": 51
        }
      },
      "source": [
        "test_pred"
      ],
      "execution_count": 0,
      "outputs": [
        {
          "output_type": "execute_result",
          "data": {
            "text/plain": [
              "array([-0.55743706, -0.550027  ,  0.93082964, ..., -0.41186273,\n",
              "       -0.2934528 ,  0.60470533], dtype=float32)"
            ]
          },
          "metadata": {
            "tags": []
          },
          "execution_count": 551
        }
      ]
    },
    {
      "cell_type": "code",
      "metadata": {
        "id": "ptiiNVRJrIb7",
        "colab_type": "code",
        "colab": {}
      },
      "source": [
        "final = pd.DataFrame(test_pred)"
      ],
      "execution_count": 0,
      "outputs": []
    },
    {
      "cell_type": "code",
      "metadata": {
        "id": "4t4AmE5lrOdo",
        "colab_type": "code",
        "colab": {}
      },
      "source": [
        "final.to_csv(\"submission.csv\")"
      ],
      "execution_count": 0,
      "outputs": []
    },
    {
      "cell_type": "markdown",
      "metadata": {
        "id": "eQeaPGWJ3qqS",
        "colab_type": "text"
      },
      "source": [
        "**SVR**"
      ]
    },
    {
      "cell_type": "code",
      "metadata": {
        "colab_type": "code",
        "outputId": "8a91469e-ee18-4e27-a36a-96ade27752fc",
        "id": "a0EeFV-bcwnA",
        "colab": {
          "base_uri": "https://localhost:8080/",
          "height": 122
        }
      },
      "source": [
        "from sklearn.svm import SVR\n",
        "svr = SVR()\n",
        "svr.fit(X_train,y_train)\n",
        "print('Score: %.4f' % svr.score(X_test, y_test))"
      ],
      "execution_count": 39,
      "outputs": [
        {
          "output_type": "stream",
          "text": [
            "/usr/local/lib/python3.6/dist-packages/sklearn/utils/validation.py:724: DataConversionWarning: A column-vector y was passed when a 1d array was expected. Please change the shape of y to (n_samples, ), for example using ravel().\n",
            "  y = column_or_1d(y, warn=True)\n",
            "/usr/local/lib/python3.6/dist-packages/sklearn/svm/base.py:193: FutureWarning: The default value of gamma will change from 'auto' to 'scale' in version 0.22 to account better for unscaled features. Set gamma explicitly to 'auto' or 'scale' to avoid this warning.\n",
            "  \"avoid this warning.\", FutureWarning)\n"
          ],
          "name": "stderr"
        },
        {
          "output_type": "stream",
          "text": [
            "Score: 0.8349\n"
          ],
          "name": "stdout"
        }
      ]
    },
    {
      "cell_type": "markdown",
      "metadata": {
        "id": "P1spZ-W1hmjZ",
        "colab_type": "text"
      },
      "source": [
        "**Random Forest**"
      ]
    },
    {
      "cell_type": "code",
      "metadata": {
        "id": "qorir8xph1xb",
        "colab_type": "code",
        "outputId": "ad6ed587-1854-41ef-f4f6-ef9422285d7b",
        "colab": {
          "base_uri": "https://localhost:8080/",
          "height": 139
        }
      },
      "source": [
        "rf = RandomForestRegressor()\n",
        "\n",
        "param_grid = { \"criterion\" : [\"mse\"]\n",
        "              , \"min_samples_leaf\" : [3]\n",
        "              , \"min_samples_split\" : [3]\n",
        "              , \"max_depth\": [10]\n",
        "              , \"n_estimators\": [300]}\n",
        "\n",
        "gs = GridSearchCV(estimator=rf, param_grid=param_grid, cv=2, n_jobs=-1, verbose=1)\n",
        "gs = gs.fit(X_train, y_train)\n",
        "bp = gs.best_params_\n"
      ],
      "execution_count": 41,
      "outputs": [
        {
          "output_type": "stream",
          "text": [
            "Fitting 2 folds for each of 1 candidates, totalling 2 fits\n"
          ],
          "name": "stdout"
        },
        {
          "output_type": "stream",
          "text": [
            "[Parallel(n_jobs=-1)]: Using backend LokyBackend with 2 concurrent workers.\n",
            "[Parallel(n_jobs=-1)]: Done   2 out of   2 | elapsed:    3.5s remaining:    0.0s\n",
            "[Parallel(n_jobs=-1)]: Done   2 out of   2 | elapsed:    3.5s finished\n",
            "/usr/local/lib/python3.6/dist-packages/sklearn/model_selection/_search.py:714: DataConversionWarning: A column-vector y was passed when a 1d array was expected. Please change the shape of y to (n_samples,), for example using ravel().\n",
            "  self.best_estimator_.fit(X, y, **fit_params)\n"
          ],
          "name": "stderr"
        }
      ]
    },
    {
      "cell_type": "code",
      "metadata": {
        "id": "JxeQq2Hih5vx",
        "colab_type": "code",
        "outputId": "b76af971-1a76-41e8-d91f-c54ef7d2ce29",
        "colab": {
          "base_uri": "https://localhost:8080/",
          "height": 190
        }
      },
      "source": [
        "forest = RandomForestRegressor(criterion=bp['criterion'],\n",
        "                              min_samples_leaf=bp['min_samples_leaf'],\n",
        "                              min_samples_split=bp['min_samples_split'],\n",
        "                              max_depth=bp['max_depth'],\n",
        "                              n_estimators=bp['n_estimators'])\n",
        "forest.fit(X_train, y_train)\n"
      ],
      "execution_count": 42,
      "outputs": [
        {
          "output_type": "stream",
          "text": [
            "/usr/local/lib/python3.6/dist-packages/ipykernel_launcher.py:6: DataConversionWarning: A column-vector y was passed when a 1d array was expected. Please change the shape of y to (n_samples,), for example using ravel().\n",
            "  \n"
          ],
          "name": "stderr"
        },
        {
          "output_type": "execute_result",
          "data": {
            "text/plain": [
              "RandomForestRegressor(bootstrap=True, criterion='mse', max_depth=10,\n",
              "                      max_features='auto', max_leaf_nodes=None,\n",
              "                      min_impurity_decrease=0.0, min_impurity_split=None,\n",
              "                      min_samples_leaf=3, min_samples_split=3,\n",
              "                      min_weight_fraction_leaf=0.0, n_estimators=300,\n",
              "                      n_jobs=None, oob_score=False, random_state=None,\n",
              "                      verbose=0, warm_start=False)"
            ]
          },
          "metadata": {
            "tags": []
          },
          "execution_count": 42
        }
      ]
    },
    {
      "cell_type": "code",
      "metadata": {
        "id": "vUIGp4ybh7EW",
        "colab_type": "code",
        "outputId": "9682446c-8fb7-45fc-89e2-1251aec9f178",
        "colab": {
          "base_uri": "https://localhost:8080/",
          "height": 34
        }
      },
      "source": [
        "# Explained variance score: 1 is perfect prediction\n",
        "print('Score: %.4f' % forest.score(X_test, y_test))"
      ],
      "execution_count": 43,
      "outputs": [
        {
          "output_type": "stream",
          "text": [
            "Score: 0.8340\n"
          ],
          "name": "stdout"
        }
      ]
    }
  ]
}